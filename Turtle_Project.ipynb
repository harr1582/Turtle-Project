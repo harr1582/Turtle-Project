{
  "nbformat": 4,
  "nbformat_minor": 0,
  "metadata": {
    "colab": {
      "name": "Turtle Project",
      "version": "0.3.2",
      "provenance": [],
      "collapsed_sections": []
    },
    "kernelspec": {
      "name": "python3",
      "display_name": "Python 3"
    }
  },
  "cells": [
    {
      "cell_type": "code",
      "metadata": {
        "id": "QA7cCub7VEQ1",
        "colab_type": "code",
        "colab": {}
      },
      "source": [
        "import numpy as np\n",
        "import pandas as pd\n",
        "import matplotlib.pyplot as plt\n",
        "%matplotlib inline"
      ],
      "execution_count": 0,
      "outputs": []
    },
    {
      "cell_type": "code",
      "metadata": {
        "id": "N7tBY1VyVmLQ",
        "colab_type": "code",
        "colab": {}
      },
      "source": [
        "Moisture0cm = pd.read_csv('MoistureDataExcel0cm.csv')\n",
        "Moisture0cm = Moisture0cm.drop(['Unnamed: 1', 'Unnamed: 3'], axis = 1)\n",
        "Moist_T = Moisture0cm['TRUE'].dropna()\n",
        "Moist_F = Moisture0cm['FALSE'].dropna()\n",
        "Moist_R = Moisture0cm['Recorded'].dropna()\n"
      ],
      "execution_count": 0,
      "outputs": []
    },
    {
      "cell_type": "code",
      "metadata": {
        "id": "VLKl0P-0zNNx",
        "colab_type": "code",
        "colab": {
          "base_uri": "https://localhost:8080/",
          "height": 335
        },
        "outputId": "ffa118dc-ae1c-4025-af7c-d339cb35fb62"
      },
      "source": [
        "\n",
        "data = [Moist_T, Moist_F, Moist_R]\n",
        "plt.boxplot(data)\n",
        "plt.xticks([1, 2, 3], ['True', 'False', 'Recorded'])"
      ],
      "execution_count": 3,
      "outputs": [
        {
          "output_type": "execute_result",
          "data": {
            "text/plain": [
              "([<matplotlib.axis.XTick at 0x7f2eebe99278>,\n",
              "  <matplotlib.axis.XTick at 0x7f2eebe80a90>,\n",
              "  <matplotlib.axis.XTick at 0x7f2eebe80748>],\n",
              " <a list of 3 Text xticklabel objects>)"
            ]
          },
          "metadata": {
            "tags": []
          },
          "execution_count": 3
        },
        {
          "output_type": "display_data",
          "data": {
            "image/png": "[encoded data removed]",
            "text/plain": [
              "<Figure size 432x288 with 1 Axes>"
            ]
          },
          "metadata": {
            "tags": []
          }
        }
      ]
    },
    {
      "cell_type": "code",
      "metadata": {
        "id": "3dePvPpRpEIn",
        "colab_type": "code",
        "colab": {
          "base_uri": "https://localhost:8080/",
          "height": 336
        },
        "outputId": "387c7216-dcbb-47d9-d7d9-dec8f5b76a53"
      },
      "source": [
        "plt.figure(figsize=(20,5))\n",
        "\n",
        "plt.subplot(1,3,1)\n",
        "plt.title('True')\n",
        "plt.hist(Moist_T)\n",
        "\n",
        "plt.subplot(1,3,2)\n",
        "plt.title('False')\n",
        "plt.hist(Moist_F)\n",
        "\n",
        "plt.subplot(1,3,3)\n",
        "plt.title('Recorded')\n",
        "plt.hist(Moist_R)\n",
        "# data = [Moist_T, Moist_F, Moist_R]\n",
        "# fig7, ax7 = plt.subplots()\n",
        "# ax7.set_title('Boxplots to see outliers for True, False, Recorded Data')\n",
        "# plt.xticks([1,2,3], ['True','False', 'Recorded'])\n",
        "# ax7.hist(data)\n",
        "\n",
        "plt.show()"
      ],
      "execution_count": 4,
      "outputs": [
        {
          "output_type": "display_data",
          "data": {
            "image/png": "[encoded data removed]",
            "text/plain": [
              "<Figure size 1440x360 with 3 Axes>"
            ]
          },
          "metadata": {
            "tags": []
          }
        }
      ]
    },
    {
      "cell_type": "code",
      "metadata": {
        "id": "uF4P7lmOuy1W",
        "colab_type": "code",
        "colab": {
          "base_uri": "https://localhost:8080/",
          "height": 1000
        },
        "outputId": "ff7e0d85-973f-4423-db65-3dac677027a0"
      },
      "source": [
        "all_data = Moisture0cm.stack().reset_index(name='val')\n",
        "print (all_data)"
      ],
      "execution_count": 5,
      "outputs": [
        {
          "output_type": "stream",
          "text": [
            "     level_0   level_1        val\n",
            "0          0      TRUE   1.333689\n",
            "1          0     FALSE   0.503124\n",
            "2          0  Recorded  13.006400\n",
            "3          1      TRUE   1.219175\n",
            "4          1     FALSE   0.694842\n",
            "5          1  Recorded  10.533600\n",
            "6          2      TRUE   0.198802\n",
            "7          2     FALSE   0.890309\n",
            "8          2  Recorded   9.475770\n",
            "9          3      TRUE   0.499722\n",
            "10         3     FALSE   0.429658\n",
            "11         3  Recorded   9.198690\n",
            "12         4      TRUE   2.425603\n",
            "13         4     FALSE   0.294113\n",
            "14         4  Recorded   8.606520\n",
            "15         5      TRUE   0.575006\n",
            "16         5     FALSE   0.244446\n",
            "17         5  Recorded   7.951950\n",
            "18         6      TRUE   0.326317\n",
            "19         6     FALSE   0.472298\n",
            "20         6  Recorded   7.019500\n",
            "21         7      TRUE   0.394301\n",
            "22         7     FALSE   0.467454\n",
            "23         7  Recorded   5.286780\n",
            "24         8      TRUE   0.235066\n",
            "25         8     FALSE   0.203089\n",
            "26         8  Recorded   5.225050\n",
            "27         9      TRUE   0.559464\n",
            "28         9     FALSE   0.356634\n",
            "29         9  Recorded   5.218290\n",
            "..       ...       ...        ...\n",
            "383      165     FALSE   0.544892\n",
            "384      165  Recorded   0.032900\n",
            "385      166     FALSE   0.248123\n",
            "386      166  Recorded   0.032690\n",
            "387      167     FALSE   1.787088\n",
            "388      167  Recorded   0.029950\n",
            "389      168     FALSE   1.548646\n",
            "390      168  Recorded   0.028850\n",
            "391      169     FALSE   0.263114\n",
            "392      169  Recorded   0.028840\n",
            "393      170     FALSE   1.550027\n",
            "394      170  Recorded   0.024810\n",
            "395      171     FALSE   0.248136\n",
            "396      171  Recorded   0.019860\n",
            "397      172     FALSE   0.208266\n",
            "398      172  Recorded   0.016920\n",
            "399      173     FALSE   0.820204\n",
            "400      174     FALSE   0.809351\n",
            "401      175     FALSE   1.011374\n",
            "402      176     FALSE   0.400479\n",
            "403      177     FALSE   0.633299\n",
            "404      178     FALSE   0.317771\n",
            "405      179     FALSE   0.604350\n",
            "406      180     FALSE   1.127499\n",
            "407      181     FALSE   0.996022\n",
            "408      182     FALSE   0.184011\n",
            "409      183     FALSE   1.323257\n",
            "410      184     FALSE   0.647453\n",
            "411      185     FALSE   4.114225\n",
            "412      186     FALSE   1.997968\n",
            "\n",
            "[413 rows x 3 columns]\n"
          ],
          "name": "stdout"
        }
      ]
    },
    {
      "cell_type": "code",
      "metadata": {
        "id": "oQCmLqcFwRYF",
        "colab_type": "code",
        "colab": {
          "base_uri": "https://localhost:8080/",
          "height": 410
        },
        "outputId": "8c7677c6-d12c-4953-dfb9-4a5cd7585d3d"
      },
      "source": [
        "grouped= all_data.groupby('level_1')['val'] \n",
        "grouped.plot(kind='hist', bins=10, figsize=[12,6], alpha=.6, legend=True) \n",
        "plt.title('Overlapping histograms @ bin of 10 for all data', fontsize=16)\n",
        "plt.xlabel('Moisture Content', fontsize=14)\n",
        "plt.ylabel('Frequency', fontsize=14)\n",
        "plt.show()"
      ],
      "execution_count": 7,
      "outputs": [
        {
          "output_type": "display_data",
          "data": {
            "image/png": "[encoded data removed]",
            "text/plain": [
              "<Figure size 864x432 with 1 Axes>"
            ]
          },
          "metadata": {
            "tags": []
          }
        }
      ]
    },
    {
      "cell_type": "code",
      "metadata": {
        "id": "7NI0xNQ0kjXA",
        "colab_type": "code",
        "colab": {
          "base_uri": "https://localhost:8080/",
          "height": 117
        },
        "outputId": "e9215d55-7de1-46df-bb3f-6fa921fefa52"
      },
      "source": [
        "import scipy.stats as stats\n",
        "print(Moisture0cm.mean())\n",
        "\n",
        "F, p = stats.f_oneway(Moist_T, Moist_F, Moist_R)\n",
        "\n",
        "# The F statistic: one way Anova\n",
        "print(F)\n",
        "print(p)"
      ],
      "execution_count": 8,
      "outputs": [
        {
          "output_type": "stream",
          "text": [
            "TRUE        1.189909\n",
            "FALSE       0.748394\n",
            "Recorded    1.124960\n",
            "dtype: float64\n",
            "3.5638097239428066\n",
            "0.029211678245945588\n"
          ],
          "name": "stdout"
        }
      ]
    },
    {
      "cell_type": "code",
      "metadata": {
        "id": "lYt7FV6YaUQh",
        "colab_type": "code",
        "colab": {
          "base_uri": "https://localhost:8080/",
          "height": 67
        },
        "outputId": "b51961b8-a941-4d05-b58a-633d81df1e59"
      },
      "source": [
        "print('True vs False:', stats.ttest_ind(Moist_T, Moist_F))\n",
        "print('True vs Recorded:', stats.ttest_ind(Moist_T, Moist_R))\n",
        "print('False vs Recorded:', stats.ttest_ind(Moist_F, Moist_R))"
      ],
      "execution_count": 9,
      "outputs": [
        {
          "output_type": "stream",
          "text": [
            "True vs False: Ttest_indResult(statistic=3.397016245619252, pvalue=0.0007983212854216843)\n",
            "True vs Recorded: Ttest_indResult(statistic=0.21693367081233825, pvalue=0.8284574879369813)\n",
            "False vs Recorded: Ttest_indResult(statistic=-2.3218926859117177, pvalue=0.02079923866984413)\n"
          ],
          "name": "stdout"
        }
      ]
    },
    {
      "cell_type": "markdown",
      "metadata": {
        "id": "QZQA0JBEl0ok",
        "colab_type": "text"
      },
      "source": [
        "## Based on the t-tests, the values of True and Recorded data are not statistically significant whereas the values of True vs False are and False vs Recorded are also statistically different. This is not adjusted for a weighted sample"
      ]
    },
    {
      "cell_type": "code",
      "metadata": {
        "id": "n-TPc4Falk5Q",
        "colab_type": "code",
        "colab": {}
      },
      "source": [
        ""
      ],
      "execution_count": 0,
      "outputs": []
    }
  ]
}